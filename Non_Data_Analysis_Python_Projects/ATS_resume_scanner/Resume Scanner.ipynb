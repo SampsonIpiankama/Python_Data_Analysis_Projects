{
 "cells": [
  {
   "cell_type": "markdown",
   "id": "5a9395e7",
   "metadata": {},
   "source": [
    "# Import docx2txt Library"
   ]
  },
  {
   "cell_type": "code",
   "execution_count": 1,
   "id": "5b79bf87",
   "metadata": {},
   "outputs": [],
   "source": [
    "import docx2txt #A pure python-based utility to extract text from docx files."
   ]
  },
  {
   "cell_type": "markdown",
   "id": "1f2ff0a3",
   "metadata": {},
   "source": [
    "# Load the data"
   ]
  },
  {
   "cell_type": "code",
   "execution_count": 2,
   "id": "b0131cfb",
   "metadata": {},
   "outputs": [],
   "source": [
    "my_resume = docx2txt.process(\"Sampson Chinonso Ipiankama CV.docx\") #extract text"
   ]
  },
  {
   "cell_type": "code",
   "execution_count": 3,
   "id": "ebc01c68",
   "metadata": {},
   "outputs": [
    {
     "name": "stdout",
     "output_type": "stream",
     "text": [
      "Sampson Chinonso Ipiankama                 \t\tAbuja |Nigeria\t\n",
      "\n",
      "Technical Aptitudes\n",
      "\n",
      "\n",
      "\n",
      "Programming: Python\n",
      "\n",
      "Data Science Packages: Pandas, Numpy, sklearn, Matplotlib, Seaborn, SPSS, Microsoft Excel etc.\n",
      "\n",
      "Visualization Tools: Power BI, Tableau\n",
      "\n",
      "Database Tool: MySQL\n",
      "\n",
      "Email: sampsonipiankama@gmail.com\t     Phone: +2348064225604       \t        Github:github.com/SampsonIpiankama LinkedIn: linkedin.com/in/sampsonipiankama\t                 \t Portfolio Website: sampsonipiankama.github.io/\n",
      "\n",
      "Projects\n",
      "\n",
      "\n",
      "\n",
      "Kickstarter Campaign Dashboard with Power BI  – Created a dashboard showing key metrics that will make a Kickstarter campaign successful.  I used Power BI, DAX, Microsoft Excel.\n",
      "\n",
      "\n",
      "\n",
      "COVID - 19 Vaccination Information in Africa Dashboard with Tableau - Analyzed and explored information on Covid-19 vaccination in Africa. I employed Tableau for this project.\n",
      "\n",
      "\n",
      "\n",
      "Employee Attrition Analysis with Python – Carried out exploratory data analysis and created some visualization to help understand the factors that influence an employee to exit an organisation. I utilized the following tools; Jupyter Notebook, Numpy, Pandas, Matplotlib, Seaborn.\n",
      "\n",
      "\n",
      "\n",
      "Certifications\n",
      "\n",
      "\n",
      "\n",
      "HiiT Plc| Abuja| Nigeria                                                                                                                                                       Oct, 2021\n",
      "\n",
      "Data Analysis Professional Certification\n",
      "\n",
      "\n",
      "\n",
      "Jobberman | Nigeria |                                                                                                                                                          Sept, 2020\n",
      "\n",
      "Jobberman Soft-Skills Training Certification\n",
      "\n",
      "\n",
      "\n",
      "\n",
      "\n",
      "Education\n",
      "\n",
      "University of Nigeria | Enugu State | Nigeria                                                                                                             2014 – 2018\n",
      "\n",
      "Bachelor of Science, Psychology, Second-class honours, upper division\n",
      "\n",
      "President, Nigerian Association of Psychology Students\n",
      "\n",
      "Relevant Coursework: Research Methods in Psychology | Quantitative Methods in Psychology\n",
      "\n",
      "President, Psychology Press Club (Psych Press)\n",
      "\n",
      "\n",
      "\n",
      "Work Experience\n",
      "\n",
      "\n",
      "\n",
      "Venora Ventures Limited | Business Development Officer | Abuja, Nigeria                                       Dec, 2020 – May, 2021\n",
      "\n",
      "Headed the establishment of new business units in 5 states of the federation (Kaduna, Plateau, Kwara, Oyo, Ogun) \n",
      "\n",
      "Spearhead the introduction of agro-commodity produce (Soyabean and Raw Cashew nut) as part of new business venture for the company thereby boosting revenue by 10%\n",
      "\n",
      "Developed and maintained relationships with farmers, merchants and companies.\n",
      "\n",
      "\n",
      "\n",
      "Project PINK BLUE | Research, Sustainability and Grant Lead | Abuja, Nigeria                                   Feb,2018 – Aug, 2021 \n",
      "\n",
      "Performed statistical qualitative and quantitative analysis.\n",
      "\n",
      "Collaborated with leadership team to identify relevant questions and determine best methods of collection.\n",
      "\n",
      "Co-authored a research paper published in The Lancet Oncology, one of the top 10 scientific journals in the world.\n"
     ]
    }
   ],
   "source": [
    "print(my_resume)"
   ]
  },
  {
   "cell_type": "code",
   "execution_count": 4,
   "id": "fb2fc840",
   "metadata": {},
   "outputs": [],
   "source": [
    "job_description =docx2txt.process(\"Data Analyst Intern Roche JD.docx\") #extract text"
   ]
  },
  {
   "cell_type": "code",
   "execution_count": 5,
   "id": "11748657",
   "metadata": {},
   "outputs": [
    {
     "name": "stdout",
     "output_type": "stream",
     "text": [
      "Data Analyst Intern Roche\n",
      "\n",
      "Ref No: 202111-132183\n",
      "\n",
      "Overview\n",
      "\n",
      "The digitalisation of healthcare has created a direct link between data analytics technology and patients. In this Africa Data Analytics Internship programme, you can explore different corners of the field - maybe even surprising yourself with new interests - while making a difference to people’s lives.\n",
      "\n",
      "Your passion can make an impact.\n",
      "\n",
      "Programme Content:\n",
      "Our programme is for early-in-career talents that provides an entry gate into a company with global impact. The following bullets provide information about the structure of the programme, what's in it for you and what we expect from you as an applicant:\n",
      "\n",
      "Duration: 12 months\n",
      "\n",
      "Position based in Roche affiliates across Africa (Morocco, Tunisia, Ghana, Nigeria, Kenya, and South Africa). \n",
      "\n",
      "Opportunities to work with different stakeholders on various projects in the healthcare field, ranging from DNA sequence analysis, market insight generation, digital solution buildup, etc.  \n",
      "\n",
      "What You Can Expect:\n",
      "\n",
      "Real work experience and project responsibilities - we encourage ownership and entrepreneurship. \n",
      "\n",
      "Professional and personal development – including mentoring and coaching by commercial leaders and data science experts. \n",
      "\n",
      "Enhanced knowledge of the Roche Pharmaceuticals and Diagnostics business and its product portfolio\n",
      "\n",
      "Exposure to IT core processes as well as our Pharma and/or Diagnostics R&D, Commercial and Corporate Functions business\n",
      "\n",
      "Global experience and cross-cultural understanding\n",
      "\n",
      "Extensive global people network.\n",
      "\n",
      "Who You Are\n",
      "\n",
      "You are someone who wants to influence their own development.\n",
      "\n",
      "You are looking for a company where you have the opportunity to accelerate your career by taking on assignments across different functions and geographies.\n",
      "\n",
      "You are someone who is enthusiastically looking for an opportunity to make an impact in the healthcare industry. \n",
      "\n",
      "As an ideal candidate, you fulfil all of the requirements below:\n",
      "\n",
      "You have an excellent academic background (4th grade B.Sc / M.Sc / PhD) and recently graduated with a strong focus on information technology/quantitative fields.\n",
      "\n",
      "Data analysis capabilities: ability to discover data analytics questions from commercial scenarios, as well as conduct basic data analysis. \n",
      "\n",
      "Data engineering skills: familiar with data manipulation tools, database management, and data visualization. Experienced in software tools such as Tableau, Data Studio, SQL, etc. \n",
      "\n",
      "Data science knowledge: hands-on experience of mathematical modeling/ statistical analysis/ machine learning. Programming skills (Python, R).  \n",
      "\n",
      "Excellent communication and effective problem-solving skills, track record in serving a variety of diverse customers and projects\n",
      "\n",
      "A quick learner and passionate about continually adapting your skills and knowledge\n",
      "\n",
      "Keen on expanding your experience and leveraging data analytics methodologies in a world-leading pharmaceutical company.\n",
      "\n",
      "Fluent in English; an additional language would be an asset\n",
      "\n",
      "Certain experience will be considered as a plus and will enable placement in particular projects:\n",
      "\n",
      "Business administration capabilities, such as business demand analysis, project management, etc.\n",
      "\n",
      "Biomedical knowledge, such as genomic science.\n"
     ]
    }
   ],
   "source": [
    "print(job_description)"
   ]
  },
  {
   "cell_type": "markdown",
   "id": "b803fd5f",
   "metadata": {},
   "source": [
    " #### Create a list of text that will hold data for both the resume and the job description"
   ]
  },
  {
   "cell_type": "code",
   "execution_count": 6,
   "id": "f08ea105",
   "metadata": {},
   "outputs": [],
   "source": [
    "document = [ my_resume,job_description]"
   ]
  },
  {
   "cell_type": "markdown",
   "id": "74f577ad",
   "metadata": {},
   "source": [
    "# Import CountVectorizer "
   ]
  },
  {
   "cell_type": "markdown",
   "id": "ffc6308a",
   "metadata": {},
   "source": [
    "CountVectorizer is a great tool provided by the scikit-learn library in Python. It is used to transform a given text into a vector on the basis of the frequency (count) of each word that occurs in the entire text. This is helpful when we have multiple such texts, and we wish to convert each word in each text into vectors (for using in further text analysis)(https://www.geeksforgeeks.org/using-countvectorizer-to-extracting-features-from-text/)"
   ]
  },
  {
   "cell_type": "code",
   "execution_count": 7,
   "id": "6e96b75c",
   "metadata": {},
   "outputs": [],
   "source": [
    "from sklearn.feature_extraction.text import CountVectorizer"
   ]
  },
  {
   "cell_type": "markdown",
   "id": "1a64dd2a",
   "metadata": {},
   "source": [
    "#### Create a Vectorizer Object"
   ]
  },
  {
   "cell_type": "code",
   "execution_count": 8,
   "id": "f3c271da",
   "metadata": {},
   "outputs": [],
   "source": [
    "vectorizer = CountVectorizer()"
   ]
  },
  {
   "cell_type": "code",
   "execution_count": 9,
   "id": "839ae57e",
   "metadata": {},
   "outputs": [],
   "source": [
    "count_matrix = vectorizer.fit_transform(document)"
   ]
  },
  {
   "cell_type": "markdown",
   "id": "98a6d56a",
   "metadata": {},
   "source": [
    "# Import cosine similarity"
   ]
  },
  {
   "cell_type": "markdown",
   "id": "097da47e",
   "metadata": {},
   "source": [
    "Cosine similarity is a metric, helpful in determining, how similar the data objects are irrespective of their size. We can measure the similarity between two sentences in Python using Cosine Similarity. In cosine similarity, data objects in a dataset are treated as a vector. (https://www.geeksforgeeks.org/cosine-similarity/?ref=gcse). cosine similarity is one the best way to judge or measure the similarity between documents."
   ]
  },
  {
   "cell_type": "code",
   "execution_count": 10,
   "id": "6ce4d364",
   "metadata": {},
   "outputs": [],
   "source": [
    "from sklearn.metrics.pairwise import cosine_similarity"
   ]
  },
  {
   "cell_type": "markdown",
   "id": "d90fedf4",
   "metadata": {},
   "source": [
    "#### Let's find out how similar the documents are"
   ]
  },
  {
   "cell_type": "code",
   "execution_count": 11,
   "id": "7ccc1b83",
   "metadata": {},
   "outputs": [
    {
     "name": "stdout",
     "output_type": "stream",
     "text": [
      "/nSimilarity scores:\n",
      "[[1.         0.51840643]\n",
      " [0.51840643 1.        ]]\n"
     ]
    }
   ],
   "source": [
    "print(\"/nSimilarity scores:\")\n",
    "print(cosine_similarity(count_matrix))"
   ]
  },
  {
   "cell_type": "code",
   "execution_count": 12,
   "id": "c1a4065f",
   "metadata": {},
   "outputs": [
    {
     "name": "stdout",
     "output_type": "stream",
     "text": [
      "My resume matches 51.84% of the job description. Thank you for checking.\n"
     ]
    }
   ],
   "source": [
    "#get the percentage match of the document\n",
    "matchPercentage = cosine_similarity(count_matrix)[0][1] * 100\n",
    "matchPercentage = round(matchPercentage, 2) #round the final result to 2 decimal places\n",
    "print(\"My resume matches \" + str(matchPercentage) + \"% of the job description. \" + \"Thank you for checking.\")"
   ]
  },
  {
   "cell_type": "code",
   "execution_count": null,
   "id": "10aa28a1",
   "metadata": {},
   "outputs": [],
   "source": []
  }
 ],
 "metadata": {
  "kernelspec": {
   "display_name": "Python 3 (ipykernel)",
   "language": "python",
   "name": "python3"
  },
  "language_info": {
   "codemirror_mode": {
    "name": "ipython",
    "version": 3
   },
   "file_extension": ".py",
   "mimetype": "text/x-python",
   "name": "python",
   "nbconvert_exporter": "python",
   "pygments_lexer": "ipython3",
   "version": "3.8.11"
  }
 },
 "nbformat": 4,
 "nbformat_minor": 5
}
